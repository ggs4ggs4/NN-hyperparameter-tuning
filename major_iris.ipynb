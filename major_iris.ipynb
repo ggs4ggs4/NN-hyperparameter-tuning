{
 "cells": [
  {
   "cell_type": "code",
   "execution_count": 43,
   "metadata": {},
   "outputs": [],
   "source": [
    "import torch\n",
    "import torch.nn as nn\n",
    "import torch.optim as optim\n",
    "import numpy as np\n",
    "from sklearn.datasets import load_iris\n",
    "from sklearn.model_selection import train_test_split\n"
   ]
  },
  {
   "cell_type": "code",
   "execution_count": 44,
   "metadata": {},
   "outputs": [],
   "source": [
    "class SimpleNN(nn.Module):\n",
    "    def __init__(self, input_size, hidden_size,num_layers, output_size):\n",
    "        super(SimpleNN, self).__init__()\n",
    "        self.hidden=[]\n",
    "        self.input = nn.Linear(input_size, hidden_size)\n",
    "        for i in range(num_layers-2):\n",
    "            self.hidden.append(nn.Linear(hidden_size, hidden_size))\n",
    "        self.output = nn.Linear(hidden_size, output_size)\n",
    "        self.relu = nn.ReLU()\n",
    "\n",
    "    def forward(self, x):\n",
    "        out = self.input(x)\n",
    "        out = self.relu(out)\n",
    "        for i in self.hidden:\n",
    "            out = i(out)\n",
    "            out = self.relu(out)\n",
    "        out = self.output(out)\n",
    "        return out\n"
   ]
  },
  {
   "cell_type": "code",
   "execution_count": 45,
   "metadata": {},
   "outputs": [],
   "source": [
    "def initialize_population(population_size, num_genes):\n",
    "    return np.random.randint(0, 2, size=(population_size, num_genes))\n",
    "\n",
    "def decode_chromosome(chromosome, learning_rate_range, num_hidden_neurons_range, num_hidden_layers_range, epochs_range):\n",
    "    # ,num_hidden_layers,epochs\n",
    "    learning_rate = learning_rate_range[0] + int(''.join(map(str, chromosome[:5])), 2) / 31.0 * (learning_rate_range[1] - learning_rate_range[0])\n",
    "    num_hidden_neurons = num_hidden_neurons_range[0] + int(''.join(map(str, chromosome[5:10])), 2) / 31.0 * (num_hidden_neurons_range[1] - num_hidden_neurons_range[0])\n",
    "    num_hidden_layers = num_hidden_layers_range[0]+ int(''.join(map(str, chromosome[10:12])), 2) /3 * (num_hidden_layers_range[1] - num_hidden_layers_range[0])\n",
    "    epochs = epochs_range[0]+ int(''.join(map(str, chromosome[12:])), 2) /3 * (epochs_range[1] - epochs_range[0])\n",
    "    return learning_rate, int(num_hidden_neurons),int(num_hidden_layers),int(epochs)\n",
    "\n",
    "def fitness(learning_rate, epochs, num_input_neurons, num_hidden_neurons,num_hidden_layers,num_output_neurons, X_train, y_train, X_val, y_val):\n",
    "    model = SimpleNN(input_size= num_input_neurons, hidden_size=num_hidden_neurons, num_layers=num_hidden_layers, output_size=num_output_neurons)\n",
    "\n",
    "    criterion = nn.CrossEntropyLoss()\n",
    "    optimizer = optim.SGD(model.parameters(), lr=learning_rate)\n",
    "\n",
    "    num_epochs = epochs\n",
    "    for epoch in range(num_epochs):\n",
    "        model.train()\n",
    "        outputs = model(X_train)\n",
    "        loss = criterion(outputs, y_train)\n",
    "        optimizer.zero_grad()\n",
    "        loss.backward()\n",
    "        optimizer.step()\n",
    "\n",
    "    model.eval()\n",
    "    with torch.no_grad():\n",
    "        outputs = model(X_val)\n",
    "        _, predicted = torch.max(outputs, 1)\n",
    "        accuracy = (predicted == y_val).sum().item() / len(y_val)\n",
    "\n",
    "    return accuracy\n"
   ]
  },
  {
   "cell_type": "code",
   "execution_count": 46,
   "metadata": {},
   "outputs": [],
   "source": [
    "def genetic_algorithm(population_size, num_genes, learning_rate_range, num_epochs_range, num_input_neurons,num_hidden_neurons_range,num_hidden_layers_range,num_output_neurons, X_train, y_train, X_val, y_val, num_generations):\n",
    "    population = initialize_population(population_size, num_genes)\n",
    "    for generation in range(num_generations):\n",
    "        fitness_scores = []\n",
    "        for chromosome in population:\n",
    "            learning_rate, num_hidden_neurons, num_hidden_layers, epochs = decode_chromosome(chromosome, learning_rate_range, num_hidden_neurons_range,num_hidden_layers_range,num_epochs_range)\n",
    "            fitness_scores.append(fitness(learning_rate, epochs, num_input_neurons,num_hidden_neurons,num_hidden_layers,num_output_neurons, X_train, y_train, X_val, y_val))\n",
    "\n",
    "        # parents based on fitness\n",
    "        parents = population[np.argsort(fitness_scores)[-2:]]\n",
    "\n",
    "\n",
    "        # Crossover\n",
    "        crossover_point = np.random.randint(1, num_genes)\n",
    "        children = []\n",
    "        for i in range(population_size - 2):\n",
    "            parent1 = parents[i % 2]\n",
    "            parent2 = parents[(i + 1) % 2]\n",
    "            child = []\n",
    "            for j in range(num_genes):\n",
    "                child.append([parent1[j], parent2[j]][np.random.randint(0,2)])\n",
    "\n",
    "            # child = np.concatenate((parent1[:crossover_point], parent2[crossover_point:]))\n",
    "            child = np.asarray(child)\n",
    "            children.append(child)\n",
    "\n",
    "        # Mutation\n",
    "        mutation_rate = 0.1\n",
    "        for i in range(population_size - 2):\n",
    "            if np.random.rand() < mutation_rate:\n",
    "                mutation_point = np.random.randint(num_genes)\n",
    "                children[i][mutation_point] = 1 - children[i][mutation_point]\n",
    "        best_chromosome = population[np.argmax(fitness_scores)]\n",
    "        # Update population\n",
    "        population = np.vstack((parents, np.array(children)))\n",
    "\n",
    "\n",
    "    learning_rate, num_hidden_neurons, num_hidden_layers, epochs = decode_chromosome(best_chromosome, learning_rate_range, num_hidden_neurons_range,num_hidden_layers_range,num_epochs_range)\n",
    "            \n",
    "    return learning_rate, num_hidden_neurons, num_hidden_layers, epochs, max(fitness_scores)\n"
   ]
  },
  {
   "cell_type": "code",
   "execution_count": 47,
   "metadata": {},
   "outputs": [],
   "source": [
    "iris = load_iris()\n",
    "X = iris.data\n",
    "y = iris.target\n",
    "X = torch.tensor(X, dtype=torch.float32)\n",
    "y = torch.tensor(y, dtype=torch.long)\n",
    "X_train, X_val, y_train, y_val = train_test_split(X, y, test_size=0.2, random_state=42)\n"
   ]
  },
  {
   "cell_type": "code",
   "execution_count": 48,
   "metadata": {},
   "outputs": [
    {
     "name": "stdout",
     "output_type": "stream",
     "text": [
      "Best learning rate: 0.3551290322580645\n",
      "Best number of hidden neurons: 44\n",
      "Best number of hidden layers: 3\n",
      "Best number of epochs: 2\n",
      "Best fitness score: 0.9666666666666667\n"
     ]
    }
   ],
   "source": [
    "learning_rate_range = [0.001, 0.5]\n",
    "num_hidden_neurons_range = [5, 100]\n",
    "num_layers_range = [1,3]\n",
    "num_epochs_range = [1,3]\n",
    "in_size = 4\n",
    "out_size = 3\n",
    "best_learning_rate, best_num_hidden_neurons, best_num_hidden_layers, best_epochs, xyz = genetic_algorithm(population_size=75, num_genes=14,\n",
    "                                                                learning_rate_range=learning_rate_range,\n",
    "                                                                num_epochs_range=num_epochs_range,\n",
    "                                                                num_input_neurons=in_size,\n",
    "                                                                num_hidden_neurons_range=num_hidden_neurons_range,\n",
    "                                                                num_hidden_layers_range=num_layers_range,\n",
    "                                                                num_output_neurons = out_size,\n",
    "                                                                X_train=X_train, y_train=y_train,\n",
    "                                                                X_val=X_val, y_val=y_val,\n",
    "                                                                num_generations=200)\n",
    "\n",
    "    \n",
    "print(\"Best learning rate:\", best_learning_rate)\n",
    "print(\"Best number of hidden neurons:\", best_num_hidden_neurons)\n",
    "print(\"Best number of hidden layers:\", best_num_hidden_layers)\n",
    "print(\"Best number of epochs:\", best_epochs)\n",
    "print(\"Best fitness score:\", xyz)\n"
   ]
  },
  {
   "cell_type": "code",
   "execution_count": null,
   "metadata": {},
   "outputs": [],
   "source": []
  },
  {
   "cell_type": "code",
   "execution_count": null,
   "metadata": {},
   "outputs": [],
   "source": []
  }
 ],
 "metadata": {
  "kernelspec": {
   "display_name": "Python 3",
   "language": "python",
   "name": "python3"
  },
  "language_info": {
   "codemirror_mode": {
    "name": "ipython",
    "version": 3
   },
   "file_extension": ".py",
   "mimetype": "text/x-python",
   "name": "python",
   "nbconvert_exporter": "python",
   "pygments_lexer": "ipython3",
   "version": "3.10.7"
  },
  "orig_nbformat": 4
 },
 "nbformat": 4,
 "nbformat_minor": 2
}
