{
 "cells": [
  {
   "cell_type": "code",
   "execution_count": 76,
   "metadata": {},
   "outputs": [],
   "source": [
    "import torch\n",
    "import torch.nn as nn\n",
    "import torch.optim as optim\n",
    "import torch.nn.functional as F\n",
    "import torchvision.datasets as dataset\n",
    "import torchvision.transforms as transforms\n",
    "from torch.utils.data import DataLoader\n",
    "from torchinfo import summary\n",
    "import numpy as np\n"
   ]
  },
  {
   "cell_type": "code",
   "execution_count": 77,
   "metadata": {},
   "outputs": [],
   "source": [
    "class NN(nn.Module):\n",
    "    def __init__(self, input_size, hidden_size, output_size):\n",
    "        super(NN, self).__init__()\n",
    "        self.hidden = nn.Linear(input_size, hidden_size)\n",
    "        # self.relu = nn.ReLU()\n",
    "        self.output = nn.Linear(hidden_size, output_size)\n",
    "\n",
    "    def forward(self, x):\n",
    "        x = F.relu(self.hidden(x))\n",
    "        out = F.sigmoid(self.output(x))\n",
    "        return out\n"
   ]
  },
  {
   "cell_type": "code",
   "execution_count": 78,
   "metadata": {},
   "outputs": [],
   "source": [
    "# Dataset load\n",
    "batch_size = 1\n",
    "train_data = dataset.MNIST(root = 'dataset/', train = True, download = True, transform= transforms.ToTensor())\n",
    "train_loader = DataLoader(dataset= train_data, batch_size= batch_size, shuffle= True)\n",
    "test_data = dataset.MNIST(root= 'dataset/', train = False, download= True, transform= transforms.ToTensor())\n",
    "test_loader = DataLoader(dataset= test_data, batch_size= batch_size, shuffle= True)"
   ]
  },
  {
   "cell_type": "code",
   "execution_count": 79,
   "metadata": {},
   "outputs": [
    {
     "name": "stdout",
     "output_type": "stream",
     "text": [
      "tensor(7)\n"
     ]
    },
    {
     "name": "stderr",
     "output_type": "stream",
     "text": [
      "C:\\Users\\Shabdansh\\AppData\\Local\\Temp\\ipykernel_20700\\3593199495.py:17: UserWarning: To copy construct from a tensor, it is recommended to use sourceTensor.clone().detach() or sourceTensor.clone().detach().requires_grad_(True), rather than torch.tensor(sourceTensor).\n",
      "  y_train = torch.tensor(y_train, dtype=torch.float32)\n",
      "C:\\Users\\Shabdansh\\AppData\\Local\\Temp\\ipykernel_20700\\3593199495.py:18: UserWarning: To copy construct from a tensor, it is recommended to use sourceTensor.clone().detach() or sourceTensor.clone().detach().requires_grad_(True), rather than torch.tensor(sourceTensor).\n",
      "  y_val = torch.tensor(y_val, dtype=torch.float32)\n"
     ]
    }
   ],
   "source": [
    "X_train, y_train = train_data[0]\n",
    "y_train = torch.tensor(y_train)\n",
    "X_val, y_val = test_data[0]\n",
    "y_val = torch.tensor(y_val)\n",
    "\n",
    "def con(y):\n",
    "    temp = [0]* 10\n",
    "    temp[y] = 1\n",
    "    y = temp\n",
    "    return torch.tensor(y, dtype = torch.float32)\n",
    "\n",
    "\n",
    "# y = [0]* 10\n",
    "# y[y_val] = 1\n",
    "# y_val = y\n",
    "print(y_val)\n",
    "y_train = torch.tensor(y_train, dtype=torch.float32)\n",
    "y_val = torch.tensor(y_val, dtype=torch.float32)"
   ]
  },
  {
   "cell_type": "code",
   "execution_count": 80,
   "metadata": {},
   "outputs": [
    {
     "name": "stdout",
     "output_type": "stream",
     "text": [
      "torch.Size([1, 28, 28])\n",
      "torch.Size([])\n"
     ]
    }
   ],
   "source": [
    "print(X_train.shape)\n",
    "print(y_train.shape)\n"
   ]
  },
  {
   "cell_type": "code",
   "execution_count": 81,
   "metadata": {},
   "outputs": [],
   "source": [
    "def initialize_population(population_size, num_genes):\n",
    "    return np.random.randint(0, 2, size=(population_size, num_genes))\n",
    "\n",
    "def decode_chromosome(chromosome, learning_rate_range, num_hidden_neurons_range):\n",
    "    learning_rate = learning_rate_range[0] + int(''.join(map(str, chromosome[:4])), 2) / 15.0 * (learning_rate_range[1] - learning_rate_range[0])\n",
    "    num_hidden_neurons = num_hidden_neurons_range[0] + int(''.join(map(str, chromosome[4:])), 2) / 15.0 * (num_hidden_neurons_range[1] - num_hidden_neurons_range[0])\n",
    "    return learning_rate, int(num_hidden_neurons)\n",
    "\n",
    "def fitness(learning_rate, num_hidden_neurons, X_train, y_train, X_val, y_val):\n",
    "    model = NN(input_size= 784, hidden_size=num_hidden_neurons, output_size=10)\n",
    "\n",
    "    criterion = nn.CrossEntropyLoss()\n",
    "    optimizer = optim.SGD(model.parameters(), lr=learning_rate)\n",
    "\n",
    "    num_epochs = 1\n",
    "    count = 0\n",
    "    for epoch in range(num_epochs):\n",
    "        for batch_idx, (X_train, y_train) in enumerate(train_loader):\n",
    "            count += 1\n",
    "            X_train = X_train.reshape(X_train.shape[0], -1) # (64, 1*28*28)\n",
    "            y_train = con(y_train)\n",
    "            # y_train = y_train.reshape(y_train.shape[0], -1)\n",
    "            # forward pass\n",
    "            model.train()\n",
    "            outputs = model(X_train)\n",
    "            # print(outputs)\n",
    "            loss = criterion(outputs[0], y_train)\n",
    "            # print(outputs.shape)\n",
    "            # backward\n",
    "            optimizer.zero_grad()\n",
    "            loss.backward()\n",
    "\n",
    "            # gradient descent\n",
    "            optimizer.step()\n",
    "            if count == 500:\n",
    "                break\n",
    "\n",
    "    model.eval()\n",
    "    count = 0\n",
    "    with torch.no_grad():\n",
    "        accuracy = 0\n",
    "        for batch_idx, (X_val, y_val) in enumerate(test_loader):\n",
    "            y_val = con(y_val)\n",
    "            count += 1\n",
    "            X_val = X_val.reshape(X_val.shape[0], -1)\n",
    "            outputs = model(X_val)\n",
    "            _, predicted = torch.max(outputs, 1)\n",
    "            accuracy += (predicted == y_val).sum().item() / (len(y_val))\n",
    "            \n",
    "            if count == 500:\n",
    "                break\n",
    "    # print(accuracy/500)\n",
    "    return accuracy/500\n"
   ]
  },
  {
   "cell_type": "code",
   "execution_count": 82,
   "metadata": {},
   "outputs": [],
   "source": [
    "def genetic_algorithm(population_size, num_genes, learning_rate_range, num_hidden_neurons_range, X_train, y_train, X_val, y_val, num_generations):\n",
    "    population = initialize_population(population_size, num_genes)\n",
    "\n",
    "    for generation in range(num_generations):\n",
    "        fitness_scores = []\n",
    "        for chromosome in population:\n",
    "            learning_rate, num_hidden_neurons = decode_chromosome(chromosome, learning_rate_range, num_hidden_neurons_range)\n",
    "            fitness_scores.append(fitness(learning_rate, num_hidden_neurons, X_train, y_train, X_val, y_val))\n",
    "        print(generation)\n",
    "        # parents based on fitness\n",
    "        parents = population[np.argsort(fitness_scores)[-2:]]\n",
    "        # print(population)\n",
    "\n",
    "\n",
    "        # Crossover\n",
    "        crossover_point = np.random.randint(1, num_genes)\n",
    "        children = []\n",
    "        for i in range(population_size - 2):\n",
    "            parent1 = parents[i % 2]\n",
    "            parent2 = parents[(i + 1) % 2]\n",
    "            # child = []\n",
    "            # for j in range(num_genes):\n",
    "                # child.append([parent1[j], parent2[j]][np.random.randint(0,2)])\n",
    "\n",
    "            child = np.concatenate((parent1[:crossover_point], parent2[crossover_point:]))\n",
    "            # child = np.asarray(child)\n",
    "            children.append(child)\n",
    "\n",
    "        # Mutation\n",
    "        mutation_rate = 0.1\n",
    "        for i in range(population_size - 2):\n",
    "            if np.random.rand() < mutation_rate:\n",
    "                mutation_point = np.random.randint(num_genes)\n",
    "                children[i][mutation_point] = 1 - children[i][mutation_point]\n",
    "\n",
    "        # Update population\n",
    "        population = np.vstack((parents, np.array(children)))\n",
    "\n",
    "    best_chromosome = population[np.argmax(fitness_scores)]\n",
    "    best_learning_rate, best_num_hidden_neurons = decode_chromosome(best_chromosome, learning_rate_range, num_hidden_neurons_range)\n",
    "\n",
    "    return best_learning_rate, best_num_hidden_neurons, max(fitness_scores)\n"
   ]
  },
  {
   "cell_type": "code",
   "execution_count": 83,
   "metadata": {},
   "outputs": [
    {
     "name": "stdout",
     "output_type": "stream",
     "text": [
      "0\n",
      "1\n",
      "2\n",
      "3\n",
      "4\n",
      "5\n",
      "6\n",
      "7\n",
      "8\n",
      "9\n",
      "Best learning rate: 0.43346666666666667\n",
      "Best number of hidden neurons: 6\n",
      "Best fitness score: 0.563400000000001\n"
     ]
    }
   ],
   "source": [
    "learning_rate_range = [0.001, 0.5]\n",
    "num_hidden_neurons_range = [5, 10]\n",
    "\n",
    "best_learning_rate, best_num_hidden_neurons, xyz = genetic_algorithm(population_size=30, num_genes=8,\n",
    "                                                                learning_rate_range=learning_rate_range,\n",
    "                                                                num_hidden_neurons_range=num_hidden_neurons_range,\n",
    "                                                                X_train=X_train, y_train=y_train,\n",
    "                                                                X_val=X_val, y_val=y_val,\n",
    "                                                                num_generations=30)\n",
    "\n",
    "print(\"Best learning rate:\", best_learning_rate)\n",
    "print(\"Best number of hidden neurons:\", best_num_hidden_neurons)\n",
    "print(\"Best fitness score:\", xyz)\n"
   ]
  },
  {
   "cell_type": "code",
   "execution_count": null,
   "metadata": {},
   "outputs": [],
   "source": []
  }
 ],
 "metadata": {
  "kernelspec": {
   "display_name": "Python 3",
   "language": "python",
   "name": "python3"
  },
  "language_info": {
   "codemirror_mode": {
    "name": "ipython",
    "version": 3
   },
   "file_extension": ".py",
   "mimetype": "text/x-python",
   "name": "python",
   "nbconvert_exporter": "python",
   "pygments_lexer": "ipython3",
   "version": "3.10.6"
  },
  "orig_nbformat": 4
 },
 "nbformat": 4,
 "nbformat_minor": 2
}
